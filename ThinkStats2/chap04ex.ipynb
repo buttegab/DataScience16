{
 "cells": [
  {
   "cell_type": "markdown",
   "metadata": {},
   "source": [
    "Exercise from Think Stats, 2nd Edition (thinkstats2.com)<br>\n",
    "Allen Downey\n",
    "\n",
    "Read the pregnancy file."
   ]
  },
  {
   "cell_type": "code",
   "execution_count": 27,
   "metadata": {
    "collapsed": false
   },
   "outputs": [],
   "source": [
    "%matplotlib inline\n",
    "\n",
    "import nsfg\n",
    "import thinkstats2\n",
    "import thinkplot\n",
    "import numpy as np\n",
    "preg = nsfg.ReadFemPreg()"
   ]
  },
  {
   "cell_type": "markdown",
   "metadata": {},
   "source": [
    "Select live births, then make a CDF of <tt>totalwgt_lb</tt>. "
   ]
  },
  {
   "cell_type": "code",
   "execution_count": 32,
   "metadata": {
    "collapsed": false
   },
   "outputs": [],
   "source": [
    "livingWgt = thinkstats2.Cdf(preg[preg.nbrnaliv < 9]['totalwgt_lb'].dropna())\n",
    "\n",
    "        \n",
    "        "
   ]
  },
  {
   "cell_type": "markdown",
   "metadata": {},
   "source": [
    "Display the CDF."
   ]
  },
  {
   "cell_type": "code",
   "execution_count": 12,
   "metadata": {
    "collapsed": false
   },
   "outputs": [
    {
     "data": {
      "image/png": "[encoded data removed]",
      "text/plain": [
       "<matplotlib.figure.Figure at 0x7fcb1b9dd2d0>"
      ]
     },
     "metadata": {},
     "output_type": "display_data"
    },
    {
     "data": {
      "text/plain": [
       "<matplotlib.figure.Figure at 0x7fcb1a738610>"
      ]
     },
     "metadata": {},
     "output_type": "display_data"
    }
   ],
   "source": [
    "thinkplot.PrePlot(2)\n",
    "thinkplot.Cdf(livingWgt)\n",
    "thinkplot.Show(xlabel='weight (pounds)', ylabel='CDF')"
   ]
  },
  {
   "cell_type": "markdown",
   "metadata": {},
   "source": [
    "Find out how much you weighed at birth, if you can, and compute CDF(x). "
   ]
  },
  {
   "cell_type": "code",
   "execution_count": 16,
   "metadata": {
    "collapsed": false
   },
   "outputs": [
    {
     "data": {
      "text/plain": [
       "0.16629785350741313"
      ]
     },
     "execution_count": 16,
     "metadata": {},
     "output_type": "execute_result"
    }
   ],
   "source": [
    "livingWgt.Prob(6.18)"
   ]
  },
  {
   "cell_type": "markdown",
   "metadata": {},
   "source": [
    "If you are a first child, look up your birthweight in the CDF of first children; otherwise use the CDF of other children."
   ]
  },
  {
   "cell_type": "code",
   "execution_count": 23,
   "metadata": {
    "collapsed": false
   },
   "outputs": [
    {
     "data": {
      "text/plain": [
       "0.17304606921842769"
      ]
     },
     "execution_count": 23,
     "metadata": {},
     "output_type": "execute_result"
    }
   ],
   "source": [
    "preg['birthord']\n",
    "firstWgt = thinkstats2.Cdf(preg[preg.birthord == 1]['totalwgt_lb'].dropna())\n",
    "firstWgt.Prob(6.18)\n",
    "\n"
   ]
  },
  {
   "cell_type": "markdown",
   "metadata": {},
   "source": [
    "Compute the percentile rank of your birthweight"
   ]
  },
  {
   "cell_type": "code",
   "execution_count": 21,
   "metadata": {
    "collapsed": false
   },
   "outputs": [
    {
     "data": {
      "text/plain": [
       "17.304606921842769"
      ]
     },
     "execution_count": 21,
     "metadata": {},
     "output_type": "execute_result"
    }
   ],
   "source": [
    "firstWgt.PercentileRank(6.18)"
   ]
  },
  {
   "cell_type": "markdown",
   "metadata": {},
   "source": [
    "Compute the median birth weight by looking up the value associated with p=0.5."
   ]
  },
  {
   "cell_type": "code",
   "execution_count": 24,
   "metadata": {
    "collapsed": false
   },
   "outputs": [
    {
     "data": {
      "text/plain": [
       "7.3125"
      ]
     },
     "execution_count": 24,
     "metadata": {},
     "output_type": "execute_result"
    }
   ],
   "source": [
    "firstWgt.Percentile(50)"
   ]
  },
  {
   "cell_type": "markdown",
   "metadata": {},
   "source": [
    "Compute the interquartile range (IQR) by computing percentiles corresponding to 25 and 75. "
   ]
  },
  {
   "cell_type": "code",
   "execution_count": 26,
   "metadata": {
    "collapsed": false
   },
   "outputs": [
    {
     "name": "stdout",
     "output_type": "stream",
     "text": [
      "6.4375\n",
      "8.0\n"
     ]
    }
   ],
   "source": [
    "print firstWgt.Percentile(25)\n",
    "print firstWgt.Percentile(75)"
   ]
  },
  {
   "cell_type": "markdown",
   "metadata": {},
   "source": [
    "Make a random selection from <tt>cdf</tt>."
   ]
  },
  {
   "cell_type": "code",
   "execution_count": 33,
   "metadata": {
    "collapsed": false
   },
   "outputs": [
    {
     "name": "stdout",
     "output_type": "stream",
     "text": [
      "[0.77362248285018809]\n"
     ]
    }
   ],
   "source": [
    "weights = preg[preg.nbrnaliv < 9]['totalwgt_lb'].dropna()\n",
    "\n",
    "sample = np.random.choice(weights, 1, replace=True)\n",
    "cdf = [livingWgt.Prob(x) for x in sample]\n",
    "print cdf"
   ]
  },
  {
   "cell_type": "markdown",
   "metadata": {},
   "source": [
    "Draw a random sample from <tt>cdf</tt>."
   ]
  },
  {
   "cell_type": "code",
   "execution_count": 35,
   "metadata": {
    "collapsed": false
   },
   "outputs": [
    {
     "name": "stdout",
     "output_type": "stream",
     "text": [
      "[0.92487275946005754, 0.7989599468909051, 0.6083204248727595, 0.2240539942465147, 0.36855499004204473, 0.77362248285018809, 0.45707014826289, 0.96393007302500555, 0.77362248285018809, 0.85439256472670944, 0.060411595485726929, 0.9605001106439478, 0.41668510732462932, 0.44036291214870549, 0.67138747510511176, 0.32595707014826292, 0.73323744191192741, 0.91203806151803501, 0.49679132551449434, 0.19384819650365126, 0.70391679575127242, 0.57756140739101569, 0.24264217747289224, 0.34277495021022353, 0.88426643062624477, 0.59283027218411155, 0.14461163974330604, 0.41668510732462932, 0.81422881168400085, 0.4775392786014605, 0.0071918566054436821, 0.73323744191192741, 0.57756140739101569, 0.52832485063067047, 0.52832485063067047, 0.54414693516264656, 0.57756140739101569, 0.44036291214870549, 0.24264217747289224, 0.45707014826289, 0.81422881168400085, 0.65600796636423986, 0.36855499004204473, 0.27970789997787121, 0.26344323965479088, 0.74551892011506971, 0.40185881832263776, 0.57756140739101569, 0.7868997565833149, 0.59283027218411155, 0.4775392786014605, 0.73323744191192741, 0.1033414472228369, 0.41668510732462932, 0.69041823412259351, 0.52832485063067047, 0.34277495021022353, 0.053883602566939588, 0.40185881832263776, 0.7989599468909051, 0.92487275946005754, 0.08873644611639743, 0.70391679575127242, 0.047023677804824075, 0.95496791325514496, 0.45707014826289, 0.06837795972560301, 0.54414693516264656, 0.40185881832263776, 0.77362248285018809, 0.27970789997787121, 0.32595707014826292, 0.4775392786014605, 0.74551892011506971, 0.36855499004204473, 0.21066607656561187, 0.033857048019473333, 0.97189643726488162, 0.92487275946005754, 0.44036291214870549, 0.88426643062624477, 0.053883602566939588, 0.35760123921221509, 0.32595707014826292, 0.52832485063067047, 0.9605001106439478, 0.76056649701261336, 0.9605001106439478, 0.49679132551449434, 0.49679132551449434, 0.060411595485726929, 0.1130781146271299, 0.45707014826289, 0.97189643726488162, 0.76056649701261336, 0.57756140739101569, 0.093162204027439702, 0.30869661429519807, 0.76056649701261336, 0.84067271520247844]\n"
     ]
    }
   ],
   "source": [
    "sample2 = np.random.choice(weights, 100, replace=True)\n",
    "cdf2 = [livingWgt.Prob(x) for x in sample2]\n",
    "print cdf2"
   ]
  },
  {
   "cell_type": "markdown",
   "metadata": {},
   "source": [
    "Draw a random sample from <tt>cdf</tt>, then compute the percentile rank for each value, and plot the distribution of the percentile ranks."
   ]
  },
  {
   "cell_type": "code",
   "execution_count": 41,
   "metadata": {
    "collapsed": false
   },
   "outputs": [
    {
     "name": "stdout",
     "output_type": "stream",
     "text": [
      "[92.487275946005752, 79.895994689090514, 60.832042487275949, 22.40539942465147, 36.855499004204475, 77.362248285018808, 45.707014826288997, 96.39300730250055, 77.362248285018808, 85.439256472670948, 6.0411595485726926, 96.050011064394781, 41.668510732462934, 44.036291214870552, 67.13874751051118, 32.595707014826289, 73.323744191192745, 91.203806151803505, 49.679132551449435, 19.384819650365127, 70.391679575127242, 57.756140739101568, 24.264217747289223, 34.277495021022354, 88.426643062624478, 59.283027218411156, 14.461163974330605, 41.668510732462934, 81.422881168400082, 47.75392786014605, 0.71918566054436817, 73.323744191192745, 57.756140739101568, 52.832485063067047, 52.832485063067047, 54.414693516264656, 57.756140739101568, 44.036291214870552, 24.264217747289223, 45.707014826288997, 81.422881168400082, 65.600796636423979, 36.855499004204475, 27.970789997787122, 26.344323965479088, 74.551892011506965, 40.185881832263775, 57.756140739101568, 78.689975658331491, 59.283027218411156, 47.75392786014605, 73.323744191192745, 10.334144722283691, 41.668510732462934, 69.041823412259347, 52.832485063067047, 34.277495021022354, 5.388360256693959, 40.185881832263775, 79.895994689090514, 92.487275946005752, 8.8736446116397438, 70.391679575127242, 4.7023677804824073, 95.496791325514494, 45.707014826288997, 6.8377959725603006, 54.414693516264656, 40.185881832263775, 77.362248285018808, 27.970789997787122, 32.595707014826289, 47.75392786014605, 74.551892011506965, 36.855499004204475, 21.066607656561189, 3.3857048019473335, 97.189643726488157, 92.487275946005752, 44.036291214870552, 88.426643062624478, 5.388360256693959, 35.760123921221506, 32.595707014826289, 52.832485063067047, 96.050011064394781, 76.056649701261335, 96.050011064394781, 49.679132551449435, 49.679132551449435, 6.0411595485726926, 11.307811462712989, 45.707014826288997, 97.189643726488157, 76.056649701261335, 57.756140739101568, 9.316220402743971, 30.869661429519805, 76.056649701261335, 84.067271520247843]\n"
     ]
    }
   ],
   "source": [
    "rank = [livingWgt.PercentileRank(x) for x in sample2]\n",
    "print rank"
   ]
  },
  {
   "cell_type": "markdown",
   "metadata": {},
   "source": [
    "Generate 1000 random values using <tt>random.random()</tt> and plot their PMF."
   ]
  },
  {
   "cell_type": "code",
   "execution_count": 48,
   "metadata": {
    "collapsed": false
   },
   "outputs": [
    {
     "data": {
      "image/png": "[encoded data removed]",
      "text/plain": [
       "<matplotlib.figure.Figure at 0x7fcb1a324050>"
      ]
     },
     "metadata": {},
     "output_type": "display_data"
    },
    {
     "data": {
      "text/plain": [
       "<matplotlib.figure.Figure at 0x7fcb1a306650>"
      ]
     },
     "metadata": {},
     "output_type": "display_data"
    }
   ],
   "source": [
    "import random\n",
    "ran = []\n",
    "for i in range(1000):\n",
    "    ran.append(random.random())\n",
    "pmf = thinkstats2.Pmf(ran)\n",
    "thinkplot.PrePlot(2)\n",
    "thinkplot.Pmf(pmf)\n",
    "thinkplot.Show(xlabel='weight (pounds)', ylabel='PMF')"
   ]
  },
  {
   "cell_type": "markdown",
   "metadata": {},
   "source": [
    "Assuming that the PMF doesn't work very well, try plotting the CDF instead."
   ]
  },
  {
   "cell_type": "code",
   "execution_count": 49,
   "metadata": {
    "collapsed": false
   },
   "outputs": [
    {
     "data": {
      "image/png": "[encoded data removed]",
      "text/plain": [
       "<matplotlib.figure.Figure at 0x7fcb1a306550>"
      ]
     },
     "metadata": {},
     "output_type": "display_data"
    },
    {
     "data": {
      "text/plain": [
       "<matplotlib.figure.Figure at 0x7fcb1b56c590>"
      ]
     },
     "metadata": {},
     "output_type": "display_data"
    }
   ],
   "source": [
    "cdf3 = thinkstats2.Cdf(ran)\n",
    "thinkplot.PrePlot(2)\n",
    "thinkplot.Cdf(cdf3)\n",
    "thinkplot.Show(xlabel='weight (pounds)', ylabel='CDF')"
   ]
  },
  {
   "cell_type": "markdown",
   "metadata": {
    "collapsed": false
   },
   "source": [
    "### Clarifying Questions\n",
    "\n",
    "Use this space to ask questions regarding the content covered in the reading. These questions should be restricted to helping you better understand the material. For questions that push beyond what is in the reading, use the next answer field. If you don't have a fully formed question, but are generally having a difficult time with a topic, you can indicate that here as well."
   ]
  },
  {
   "cell_type": "markdown",
   "metadata": {},
   "source": []
  },
  {
   "cell_type": "markdown",
   "metadata": {},
   "source": [
    "### Enrichment Questions\n",
    "\n",
    "Use this space to ask any questions that go beyond (but are related to) the material presented in this reading. Perhaps there is a particular topic you'd like to see covered in more depth. Perhaps you'd like to know how to use a library in a way that wasn't show in the reading. One way to think about this is what additional topics would you want covered in the next class (or addressed in a followup e-mail to the class). I'm a little fuzzy on what stuff will likely go here, so we'll see how things evolve."
   ]
  },
  {
   "cell_type": "markdown",
   "metadata": {},
   "source": []
  },
  {
   "cell_type": "markdown",
   "metadata": {},
   "source": [
    "### Additional Resources / Explorations\n",
    "\n",
    "If you found any useful resources, or tried some useful exercises that you'd like to report please do so here. Let us know what you did, what you learned, and how others can replicate it."
   ]
  },
  {
   "cell_type": "markdown",
   "metadata": {},
   "source": []
  }
 ],
 "metadata": {
  "kernelspec": {
   "display_name": "Python 2",
   "language": "python",
   "name": "python2"
  },
  "language_info": {
   "codemirror_mode": {
    "name": "ipython",
    "version": 2
   },
   "file_extension": ".py",
   "mimetype": "text/x-python",
   "name": "python",
   "nbconvert_exporter": "python",
   "pygments_lexer": "ipython2",
   "version": "2.7.11"
  }
 },
 "nbformat": 4,
 "nbformat_minor": 0
}
