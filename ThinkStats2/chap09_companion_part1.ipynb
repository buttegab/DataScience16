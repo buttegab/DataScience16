{
 "cells": [
  {
   "cell_type": "markdown",
   "metadata": {},
   "source": [
    "## ThinkStats 9.1 - 9.3 Companion\n",
    "\n",
    "This notebook will allow you to practice some of the concepts from ThinkStats2 Chapter 9.\n",
    "\n",
    "### Companion to 9.1 - 9.2\n",
    "\n",
    "First, we'll start with the question that Allen poses at the beginning of the chapter: \"Suppose we toss a coin 250 times and we see 140 heads.  Is this strong evidence that the coin is biased?\"\n",
    "\n",
    "As Allen says, classical hypothesis testing is similar to a proof by contradiction.  First, we assume that the thing we are trying to show is false (that the coin is biased).  Second, we show that this leads to an observed event being excedingly improbable (seeing 140 heads out of 250 tosses).  Finally, we can conclude that our assumption (that the coin is not biased) is unlikely to be true.\n",
    "\n",
    "Write a function to simulate n random coin flips of a fair coin (p(heads) = 0.5).  Your function should return the number of heads that occur in those n coin clips."
   ]
  },
  {
   "cell_type": "code",
   "execution_count": 10,
   "metadata": {
    "collapsed": false
   },
   "outputs": [
    {
     "name": "stdout",
     "output_type": "stream",
     "text": [
      "[142, 115, 120, 127, 140, 129, 122, 119, 119, 134, 141, 132, 120, 109, 128, 129, 138, 126, 114, 106, 136, 132, 124, 112, 124, 138, 124, 126, 125, 117, 116, 134, 114, 117, 113, 132, 117, 129, 114, 124, 117, 116, 125, 119, 140, 129, 145, 140, 132, 128, 132, 128, 120, 138, 127, 131, 131, 113, 120, 122, 117, 118, 122, 112, 123, 116, 131, 125, 124, 121, 139, 125, 124, 110, 119, 123, 125, 124, 135, 122, 139, 122, 131, 120, 131, 117, 125, 121, 120, 126, 128, 126, 114, 116, 135, 121, 123, 126, 136, 122, 123, 117, 130, 120, 135, 132, 118, 136, 129, 120, 119, 130, 119, 132, 111, 134, 123, 128, 110, 134, 124, 111, 124, 140, 130, 118, 132, 127, 112, 137, 110, 132, 123, 119, 113, 119, 126, 124, 116, 119, 131, 130, 122, 133, 112, 127, 125, 111, 123, 131, 121, 127, 138, 126, 122, 122, 108, 124, 134, 114, 127, 119, 140, 128, 122, 136, 112, 136, 116, 129, 122, 129, 135, 123, 130, 122, 123, 112, 141, 123, 131, 117, 130, 119, 134, 132, 120, 124, 119, 131, 124, 138, 131, 124, 113, 121, 122, 114, 134, 126, 137, 126, 121, 129, 132, 111, 126, 144, 111, 140, 123, 117, 131, 124, 109, 129, 127, 121, 123, 126, 126, 124, 126, 127, 121, 139, 133, 130, 125, 128, 127, 125, 117, 129, 127, 118, 134, 118, 127, 130, 113, 124, 129, 123, 125, 129, 129, 116, 127, 138, 119, 123, 122, 122, 105, 122, 132, 126, 125, 128, 109, 125, 125, 117, 132, 117, 124, 132, 122, 130, 122, 122, 133, 133, 121, 127, 128, 121, 120, 144, 113, 123, 136, 125, 120, 120, 134, 120, 116, 133, 113, 127, 140, 131, 116, 115, 120, 118, 124, 125, 124, 116, 129, 113, 123, 134, 130, 127, 116, 109, 128, 108, 118, 124, 131, 124, 112, 115, 130, 121, 133, 134, 117, 119, 131, 117, 125, 122, 121, 135, 126, 119, 119, 119, 118, 118, 118, 114, 122, 124, 118, 136, 122, 131, 131, 113, 134, 122, 130, 127, 125, 120, 108, 125, 134, 133, 131, 128, 113, 126, 117, 119, 124, 128, 116, 113, 137, 117, 133, 123, 138, 119, 123, 126, 114, 116, 109, 135, 137, 124, 119, 124, 130, 113, 129, 137, 121, 117, 111, 114, 134, 132, 121, 126, 112, 111, 132, 128, 116, 121, 114, 110, 135, 133, 109, 119, 132, 121, 122, 142, 132, 105, 121, 129, 128, 132, 124, 108, 125, 127, 119, 135, 122, 129, 135, 128, 127, 115, 135, 139, 120, 150, 125, 129, 121, 132, 126, 112, 126, 128, 115, 109, 116, 125, 134, 133, 121, 121, 121, 125, 125, 127, 122, 126, 106, 124, 116, 140, 123, 128, 127, 119, 137, 129, 113, 126, 129, 125, 127, 120, 117, 115, 120, 127, 123, 130, 121, 131, 138, 129, 113, 125, 117, 129, 134, 120, 124, 137, 127, 128, 119, 133, 131, 129, 113, 130, 137, 121, 128, 124, 121, 132, 129, 128, 125, 125, 124, 130, 108, 115, 132, 129, 126, 121, 138, 131, 122, 123, 124, 125, 144, 127, 119, 125, 117, 136, 129, 121, 124, 128, 119, 128, 117, 137, 128, 130, 141, 115, 125, 144, 119, 115, 132, 135, 113, 119, 119, 126, 112, 128, 129, 123, 121, 124, 118, 122, 109, 129, 133, 125, 117, 124, 123, 126, 113, 125, 132, 122, 122, 124, 135, 139, 119, 130, 130, 132, 133, 135, 118, 120, 109, 119, 115, 113, 122, 120, 122, 138, 129, 124, 121, 131, 125, 117, 119, 131, 121, 131, 117, 132, 117, 114, 121, 127, 121, 116, 126, 149, 118, 130, 119, 123, 113, 121, 129, 121, 126, 122, 132, 110, 121, 132, 145, 118, 107, 134, 143, 114, 106, 114, 125, 125, 129, 129, 124, 109, 133, 135, 120, 123, 117, 131, 114, 115, 112, 140, 127, 132, 117, 120, 125, 115, 122, 118, 129, 113, 124, 129, 118, 118, 126, 125, 123, 122, 128, 132, 116, 127, 131, 130, 134, 120, 115, 129, 126, 109, 113, 104, 118, 130, 133, 124, 124, 114, 117, 130, 135, 124, 126, 126, 124, 129, 113, 140, 125, 129, 123, 113, 126, 118, 128, 128, 124, 128, 128, 120, 127, 128, 120, 130, 126, 118, 119, 131, 126, 121, 139, 128, 127, 138, 122, 127, 133, 124, 126, 128, 131, 119, 126, 138, 122, 125, 122, 125, 123, 122, 132, 127, 124, 129, 127, 118, 126, 117, 118, 114, 119, 130, 129, 121, 125, 133, 116, 137, 121, 126, 128, 114, 110, 138, 121, 126, 131, 132, 120, 119, 107, 109, 128, 126, 126, 144, 125, 124, 116, 121, 130, 127, 123, 119, 121, 114, 127, 111, 126, 121, 127, 117, 113, 130, 140, 120, 116, 118, 124, 136, 115, 119, 124, 123, 124, 132, 129, 121, 114, 138, 124, 115, 133, 125, 116, 127, 119, 127, 117, 132, 123, 124, 132, 136, 129, 123, 122, 112, 130, 141, 122, 116, 131, 134, 128, 132, 130, 128, 112, 129, 129, 120, 140, 126, 125, 134, 123, 125, 125, 132, 134, 127, 131, 111, 124, 131, 126, 118, 127, 126, 132, 130, 126, 120, 123, 123, 124, 118, 126, 135, 121, 117, 122, 131, 132, 122, 116, 151, 112, 129, 115, 139, 131, 115, 118, 124, 124, 139, 138, 128, 127, 122, 124, 125, 123, 130, 133, 120, 126, 127, 121, 129, 112, 118, 133, 108, 128, 123, 116, 137, 130, 117, 115, 132, 131, 109, 121, 113, 124, 128, 129, 105, 136, 124, 122, 129, 125, 127, 133, 121, 112, 115, 123, 130, 129, 116, 126, 120, 137, 130, 123, 130, 107, 122, 122, 113, 119, 129, 139, 138, 131, 115, 124, 112, 116, 132, 115, 124, 134, 120, 133, 126, 114, 122, 137, 123, 139, 121, 127, 133, 131, 120, 127, 129, 109, 131, 133, 107, 126, 106, 115, 114, 129, 121, 117, 126, 123, 118, 130, 124, 140, 113, 120, 129, 131, 111, 128, 135, 119, 129, 118, 123, 122, 124]\n"
     ]
    }
   ],
   "source": [
    "from random import choice\n",
    "\n",
    "def simulate_fair_coin_flips(n):\n",
    "    \"\"\" Return the number of heads that occur in n flips of a\n",
    "        fair coin p(heads) = 0.5 \"\"\"\n",
    "    counter = 0\n",
    "    for i in range(n):\n",
    "        choices = choice([\"heads\", \"tails\"])\n",
    "        \n",
    "        if choices == \"heads\":\n",
    "            counter += 1\n",
    "    return counter\n",
    "\n",
    "flipData = []\n",
    "for i in range(1000):\n",
    "    flipData.append(simulate_fair_coin_flips(250))\n",
    "print flipData"
   ]
  },
  {
   "cell_type": "markdown",
   "metadata": {},
   "source": [
    "Next, repeat your simulation of 240 coin flips 1000 times.  Create and display a CDF of the number of times heads appears based on  1000 random trials."
   ]
  },
  {
   "cell_type": "code",
   "execution_count": 11,
   "metadata": {
    "collapsed": false
   },
   "outputs": [
    {
     "data": {
      "text/plain": [
       "{'xscale': 'linear', 'yscale': 'linear'}"
      ]
     },
     "execution_count": 11,
     "metadata": {},
     "output_type": "execute_result"
    },
    {
     "data": {
      "image/png": "[encoded data removed]",
      "text/plain": [
       "<matplotlib.figure.Figure at 0x7f09b231e190>"
      ]
     },
     "metadata": {},
     "output_type": "display_data"
    }
   ],
   "source": [
    "%matplotlib inline\n",
    "import thinkstats2\n",
    "import thinkplot\n",
    "import matplotlib.pyplot as plt\n",
    "\n",
    "\n",
    "cdf = thinkstats2.Cdf(flipData, label='flipdata')\n",
    "thinkplot.Cdf(cdf)\n",
    "# your implementation here (imports included for convenience)"
   ]
  },
  {
   "cell_type": "markdown",
   "metadata": {
    "collapsed": true
   },
   "source": [
    "The p-value is simply the probability that we would have seen a result as extreme (or greater) as 140 heads out of 250 flips under the hypothesis that the coin is fair (the null hypothesis).  Using the CDF you created in the previous cell, compute the p-value.  If you want to test your learning a bit more: compute the p-value without using the CDF explicitly (instead use the results of the 1000 random trials directly).\n",
    "\n",
    "Hint: you should use the PercentileRank function of CDF to compute the p-value, however, there is one important gotcha.  The PercentileRank function returns the percentage of data that is equal to or less than the input value.  When computing the p-value we want the percentage of the data that is equal to or greater than the observed value."
   ]
  },
  {
   "cell_type": "code",
   "execution_count": 13,
   "metadata": {
    "collapsed": false
   },
   "outputs": [
    {
     "name": "stdout",
     "output_type": "stream",
     "text": [
      "1.7\n"
     ]
    }
   ],
   "source": [
    "percentile = cdf.PercentileRank(140)\n",
    "#print percentile\n",
    "print 100 - percentile"
   ]
  },
  {
   "cell_type": "markdown",
   "metadata": {},
   "source": [
    "The p-value we computed above is called a [one-tailed test](https://en.wikipedia.org/wiki/One-_and_two-tailed_tests) in that we only counted simulations of the null-hypothesis that had 140 or more heads (Allen uses the terminology of one versus two-sided tests, see ThinkStats2 9.4).  A two-tailed test would count simulations with 140 or more tails as well (which is what Allen shows in the book).  Whether to use a one-tailed or a two-tailed test mostly has to do with your prior expectations regarding the hypothesis you are testing.  For instance, if you had a reason to suspect that the coin would be biased towards heads (but not tails) you would use a one-tailed test.  If you had no reason to assume a priori that the coin was biased towards heads or tails, you should use a two-tailed test.\n",
    "\n",
    "Modify your coin flip simulation code to return the number of heads or tails, whichever is larger, out of n flips."
   ]
  },
  {
   "cell_type": "code",
   "execution_count": 18,
   "metadata": {
    "collapsed": false
   },
   "outputs": [
    {
     "name": "stdout",
     "output_type": "stream",
     "text": [
      "131\n"
     ]
    }
   ],
   "source": [
    "def simulate_fair_coin_flips_two_sided(n):\n",
    "    \"\"\" Return the number of heads or tails, whichever is larger,\n",
    "        that occur in n flips of a fair coin p(heads) = 0.5 \"\"\"\n",
    "    counterh = 0\n",
    "    countert = 0\n",
    "    for i in range(n):\n",
    "        choices = choice([\"heads\", \"tails\"])\n",
    "        \n",
    "        if choices == \"heads\":\n",
    "            counterh += 1\n",
    "        else:\n",
    "            countert += 1\n",
    "    if counterh >= countert:\n",
    "        #print \"heads\"\n",
    "        return counterh\n",
    "    else:\n",
    "        #print \"tails\"\n",
    "        return countert\n",
    "\n",
    "print simulate_fair_coin_flips_two_sided(250)"
   ]
  },
  {
   "cell_type": "markdown",
   "metadata": {},
   "source": [
    "Using the function `simulate_fair_coin_flips_two_sided`, create and display a CDF of the number of times the most common outcome, heads or tails, appears based on 1000 random trials."
   ]
  },
  {
   "cell_type": "code",
   "execution_count": 20,
   "metadata": {
    "collapsed": false
   },
   "outputs": [
    {
     "data": {
      "text/plain": [
       "{'xscale': 'linear', 'yscale': 'linear'}"
      ]
     },
     "execution_count": 20,
     "metadata": {},
     "output_type": "execute_result"
    },
    {
     "data": {
      "image/png": "[encoded data removed]",
      "text/plain": [
       "<matplotlib.figure.Figure at 0x7f09af408fd0>"
      ]
     },
     "metadata": {},
     "output_type": "display_data"
    }
   ],
   "source": [
    "flipDataTwo = []\n",
    "for i in range(1000):\n",
    "    flipDataTwo.append(simulate_fair_coin_flips_two_sided(250))\n",
    "\n",
    "cdf2 = thinkstats2.Cdf(flipDataTwo, label='flipdata')\n",
    "thinkplot.Cdf(cdf2)"
   ]
  },
  {
   "cell_type": "markdown",
   "metadata": {},
   "source": [
    "Use the CDF to compute a two-tailed (or two-sided) p-value for the observed data (140 heads out of 250 flips)."
   ]
  },
  {
   "cell_type": "code",
   "execution_count": 24,
   "metadata": {
    "collapsed": false
   },
   "outputs": [
    {
     "name": "stdout",
     "output_type": "stream",
     "text": [
      "lower\n",
      "94.9\n",
      "higher\n",
      "5.1\n"
     ]
    }
   ],
   "source": [
    "percentile = cdf2.PercentileRank(140)\n",
    "print \"lower\"\n",
    "print percentile\n",
    "print \"higher\"\n",
    "print 100 - percentile"
   ]
  },
  {
   "cell_type": "markdown",
   "metadata": {},
   "source": [
    "This approach (via simulations of the null-hypothesis) to computing p-values has its limitations.  For instance, suppose you observed 180 heads in 250 flips.  If you used your CDF from above to answer this question, what would go wrong?  What would you need to do in order to get a sensible estimate of this p-value?"
   ]
  },
  {
   "cell_type": "markdown",
   "metadata": {},
   "source": [
    "## Response\n",
    "What went wrong when I tried to get the p-value of 180 was that it was higher than or equal to all other entries. I would likely need to run many more trials in order to widen the birth of possibilities my model can account for. As it stands, some outcomes are so unlikely that they are never reached with just 1000 trials."
   ]
  },
  {
   "cell_type": "markdown",
   "metadata": {},
   "source": [
    "### Companion to 9.3\n",
    "\n",
    "In Section 9.3 Allen uses a permutation test to examine whether there is a significant difference between the pregnancy lengths for first babies versus others.  Here, I will ask you to implement a very similar test without using the base class `thinkstats2.HypothesisTest`.  This will be the second test you have implemented on your own.  From here on out, you may implement tests by inheriting from `thinkstats2.HypothesisTest`, or you can choose to simply roll your own.\n",
    "\n",
    "We will test the hypothesis that the mean age of men versus women on the titanic was different.  First, let's load the data and drop any rows where age is missing."
   ]
  },
  {
   "cell_type": "code",
   "execution_count": 81,
   "metadata": {
    "collapsed": false
   },
   "outputs": [
    {
     "data": {
      "text/html": [
       "<div>\n",
       "<table border=\"1\" class=\"dataframe\">\n",
       "  <thead>\n",
       "    <tr style=\"text-align: right;\">\n",
       "      <th></th>\n",
       "      <th>PassengerId</th>\n",
       "      <th>Survived</th>\n",
       "      <th>Pclass</th>\n",
       "      <th>Name</th>\n",
       "      <th>Sex</th>\n",
       "      <th>Age</th>\n",
       "      <th>SibSp</th>\n",
       "      <th>Parch</th>\n",
       "      <th>Ticket</th>\n",
       "      <th>Fare</th>\n",
       "      <th>Cabin</th>\n",
       "      <th>Embarked</th>\n",
       "    </tr>\n",
       "  </thead>\n",
       "  <tbody>\n",
       "    <tr>\n",
       "      <th>0</th>\n",
       "      <td>1</td>\n",
       "      <td>0</td>\n",
       "      <td>3</td>\n",
       "      <td>Braund, Mr. Owen Harris</td>\n",
       "      <td>male</td>\n",
       "      <td>22</td>\n",
       "      <td>1</td>\n",
       "      <td>0</td>\n",
       "      <td>A/5 21171</td>\n",
       "      <td>7.2500</td>\n",
       "      <td>NaN</td>\n",
       "      <td>S</td>\n",
       "    </tr>\n",
       "    <tr>\n",
       "      <th>1</th>\n",
       "      <td>2</td>\n",
       "      <td>1</td>\n",
       "      <td>1</td>\n",
       "      <td>Cumings, Mrs. John Bradley (Florence Briggs Th...</td>\n",
       "      <td>female</td>\n",
       "      <td>38</td>\n",
       "      <td>1</td>\n",
       "      <td>0</td>\n",
       "      <td>PC 17599</td>\n",
       "      <td>71.2833</td>\n",
       "      <td>C85</td>\n",
       "      <td>C</td>\n",
       "    </tr>\n",
       "    <tr>\n",
       "      <th>2</th>\n",
       "      <td>3</td>\n",
       "      <td>1</td>\n",
       "      <td>3</td>\n",
       "      <td>Heikkinen, Miss. Laina</td>\n",
       "      <td>female</td>\n",
       "      <td>26</td>\n",
       "      <td>0</td>\n",
       "      <td>0</td>\n",
       "      <td>STON/O2. 3101282</td>\n",
       "      <td>7.9250</td>\n",
       "      <td>NaN</td>\n",
       "      <td>S</td>\n",
       "    </tr>\n",
       "    <tr>\n",
       "      <th>3</th>\n",
       "      <td>4</td>\n",
       "      <td>1</td>\n",
       "      <td>1</td>\n",
       "      <td>Futrelle, Mrs. Jacques Heath (Lily May Peel)</td>\n",
       "      <td>female</td>\n",
       "      <td>35</td>\n",
       "      <td>1</td>\n",
       "      <td>0</td>\n",
       "      <td>113803</td>\n",
       "      <td>53.1000</td>\n",
       "      <td>C123</td>\n",
       "      <td>S</td>\n",
       "    </tr>\n",
       "    <tr>\n",
       "      <th>4</th>\n",
       "      <td>5</td>\n",
       "      <td>0</td>\n",
       "      <td>3</td>\n",
       "      <td>Allen, Mr. William Henry</td>\n",
       "      <td>male</td>\n",
       "      <td>35</td>\n",
       "      <td>0</td>\n",
       "      <td>0</td>\n",
       "      <td>373450</td>\n",
       "      <td>8.0500</td>\n",
       "      <td>NaN</td>\n",
       "      <td>S</td>\n",
       "    </tr>\n",
       "  </tbody>\n",
       "</table>\n",
       "</div>"
      ],
      "text/plain": [
       "   PassengerId  Survived  Pclass  \\\n",
       "0            1         0       3   \n",
       "1            2         1       1   \n",
       "2            3         1       3   \n",
       "3            4         1       1   \n",
       "4            5         0       3   \n",
       "\n",
       "                                                Name     Sex  Age  SibSp  \\\n",
       "0                            Braund, Mr. Owen Harris    male   22      1   \n",
       "1  Cumings, Mrs. John Bradley (Florence Briggs Th...  female   38      1   \n",
       "2                             Heikkinen, Miss. Laina  female   26      0   \n",
       "3       Futrelle, Mrs. Jacques Heath (Lily May Peel)  female   35      1   \n",
       "4                           Allen, Mr. William Henry    male   35      0   \n",
       "\n",
       "   Parch            Ticket     Fare Cabin Embarked  \n",
       "0      0         A/5 21171   7.2500   NaN        S  \n",
       "1      0          PC 17599  71.2833   C85        C  \n",
       "2      0  STON/O2. 3101282   7.9250   NaN        S  \n",
       "3      0            113803  53.1000  C123        S  \n",
       "4      0            373450   8.0500   NaN        S  "
      ]
     },
     "execution_count": 81,
     "metadata": {},
     "output_type": "execute_result"
    }
   ],
   "source": [
    "import pandas as pd\n",
    "\n",
    "data = pd.read_csv('../datasets/train.csv')\n",
    "data = data.dropna(subset=['Age'])\n",
    "data = data.dropna(subset=['Sex'])\n",
    "\n",
    "data.head()\n",
    "# data.Sex"
   ]
  },
  {
   "cell_type": "markdown",
   "metadata": {},
   "source": [
    "Write a function that takes as input a data frame and computes the absolute value of the difference in mean age between men and women."
   ]
  },
  {
   "cell_type": "code",
   "execution_count": 102,
   "metadata": {
    "collapsed": false
   },
   "outputs": [
    {
     "name": "stdout",
     "output_type": "stream",
     "text": [
      "observed age difference 2.81093577935\n"
     ]
    }
   ],
   "source": [
    "import numpy as np\n",
    "def compute_age_diff(data):\n",
    "    \"\"\" Compute the absolute value of the difference in mean age\n",
    "        between men and women on the titanic \"\"\"\n",
    "    man = []\n",
    "    woman = []\n",
    "#     print data.Age\n",
    "#     newData = pd.Series([data[\"Age\"], data[\"Sex\"]])\n",
    "#     print newData[\"Age\"]\n",
    "    \n",
    "#     data.loc[data[\"Sex\"] == \"male\", \"Sex\"] = data[\"Age\"]\n",
    "#     data.loc[data[\"Sex\"] == \"female\", \"Sex\"] = data[\"Age\"]\n",
    "#     print data[\"Sex\"]\n",
    "#     print data.iterrows()\n",
    "    \n",
    "    for index, row in data.iterrows():\n",
    "        if row.Sex == \"male\":\n",
    "            man.append(row.Age)\n",
    "        else:\n",
    "            woman.append(row.Age)\n",
    "\n",
    "#     print man\n",
    "#     for x in range(len(data.Age)):\n",
    "# #         print x\n",
    "        \n",
    "#         if data.Sex[x] == \"male\":\n",
    "#             man.append(data.Age[x])\n",
    "#         else:\n",
    "#             woman.append(data.Age[x])\n",
    "    return abs(np.mean(man)-np.mean(woman))\n",
    "\n",
    "observed_age_diff = compute_age_diff(data)\n",
    "print \"observed age difference\", observed_age_diff"
   ]
  },
  {
   "cell_type": "markdown",
   "metadata": {},
   "source": [
    "Write a function called `shuffle_ages` that returns a copy of the original data frame but where the Ages have been randomly permuted.\n",
    "\n",
    "Hint: there are lots of ways to do this, but  `numpy.random.permutation` seems to be an especially succint choice.  Make sure to try this function out on a small, hand-made Pandas series to get the idea of how it works."
   ]
  },
  {
   "cell_type": "code",
   "execution_count": 105,
   "metadata": {
    "collapsed": false
   },
   "outputs": [
    {
     "data": {
      "text/plain": [
       "1.0720918017812302"
      ]
     },
     "execution_count": 105,
     "metadata": {},
     "output_type": "execute_result"
    }
   ],
   "source": [
    "from numpy.random import permutation\n",
    "\n",
    "def shuffle_ages(data):\n",
    "    \"\"\" Return a new dataframe (don't modify the original) where\n",
    "        the values in the Age column have been randomly permuted. \"\"\"\n",
    "    \n",
    "    data2 = data\n",
    "    data2[\"Age\"] = permutation(data[\"Age\"])\n",
    "#     print data[\"random\"]\n",
    "    return data2\n",
    "\n",
    "compute_age_diff(shuffle_ages(data))"
   ]
  },
  {
   "cell_type": "markdown",
   "metadata": {},
   "source": [
    "Using 1000 random simulations, compute the p-value for the hypothesis that the mean ages of men and women were different (you may wish to use Cdf as in the previous section)."
   ]
  },
  {
   "cell_type": "code",
   "execution_count": 107,
   "metadata": {
    "collapsed": false
   },
   "outputs": [
    {
     "name": "stdout",
     "output_type": "stream",
     "text": [
      "63.7\n"
     ]
    },
    {
     "data": {
      "image/png": "[encoded data removed]",
      "text/plain": [
       "<matplotlib.figure.Figure at 0x7f09afb3e510>"
      ]
     },
     "metadata": {},
     "output_type": "display_data"
    }
   ],
   "source": [
    "randAge = []\n",
    "for i in range(1000):\n",
    "    randAge.append(compute_age_diff(shuffle_ages(data)))\n",
    "\n",
    "cdf3 = thinkstats2.Cdf(randAge, label='Random_Age')\n",
    "thinkplot.Cdf(cdf3)\n",
    "\n",
    "print cdf3.PercentileRank(1)\n",
    "#Just in case this makes no sense, I did this because in the event that randomly changing around ages doesn't make\n",
    "#things come out to be 0 on average, then there must be some bias on either the male or female side.\n"
   ]
  },
  {
   "cell_type": "markdown",
   "metadata": {},
   "source": [
    "Ignoring passengers with missing ages:\n",
    "\n",
    "1.  Was the average age of male versus female passengers on the titanic different?\n",
    "2.  What additional (if any) conclusions can you draw based on the p-value you just computed?  In other words, what does this p-value mean?\n",
    "\n",
    "Disclaimer: (1) is a bit of a trick question (sorry!), but I included it to encourage being precise about the definition of the null hypothesis and eactly which population it refers to."
   ]
  },
  {
   "cell_type": "markdown",
   "metadata": {},
   "source": [
    "## 1\n",
    "The average was different for all the people, though we can't tell for certain if it is males or females because there is no connection after the age data has been shuffled.\n",
    "## 2\n",
    "What I can draw from this is that there is a particular concentration of ages that is higher or lower for males or females. We know that for a value of 1 year in difference, that is a larger gap than 63% of occupants saw, and thereby 37% less than others, but not whether it corresponds to being male or female. We would likely want to leave the ages corresponding with the sex in order to determine that."
   ]
  },
  {
   "cell_type": "code",
   "execution_count": null,
   "metadata": {
    "collapsed": true
   },
   "outputs": [],
   "source": []
  },
  {
   "cell_type": "code",
   "execution_count": null,
   "metadata": {
    "collapsed": true
   },
   "outputs": [],
   "source": []
  }
 ],
 "metadata": {
  "kernelspec": {
   "display_name": "Python 2",
   "language": "python",
   "name": "python2"
  },
  "language_info": {
   "codemirror_mode": {
    "name": "ipython",
    "version": 2
   },
   "file_extension": ".py",
   "mimetype": "text/x-python",
   "name": "python",
   "nbconvert_exporter": "python",
   "pygments_lexer": "ipython2",
   "version": "2.7.11"
  }
 },
 "nbformat": 4,
 "nbformat_minor": 0
}
